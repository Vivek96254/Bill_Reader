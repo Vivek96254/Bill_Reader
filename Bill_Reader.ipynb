{
 "cells": [
  {
   "cell_type": "code",
   "execution_count": 6,
   "id": "95b88f7e",
   "metadata": {},
   "outputs": [
    {
     "name": "stdout",
     "output_type": "stream",
     "text": [
      "Product: Broiler Chicken Thali 1, Price: 380.00\n",
      "Product: Special Veg Thali 1, Price: 300.00\n",
      "Product: Paratha 2, Price: 30.00\n",
      "Product: Total Qty: 4 Sub Total, Price: 740.00\n",
      "Product: CGST 25% ©, Price: 18.50\n"
     ]
    }
   ],
   "source": [
    "import cv2\n",
    "import pytesseract\n",
    "import re\n",
    "\n",
    "pytesseract.pytesseract.tesseract_cmd = r'C:\\Program Files\\Tesseract-OCR\\tesseract.exe'\n",
    "\n",
    "def text_extraction(image_path):\n",
    "    image = cv2.imread(image_path)\n",
    "    gray = cv2.cvtColor(image, cv2.COLOR_BGR2GRAY)\n",
    "    text = pytesseract.image_to_string(gray)\n",
    "    return text\n",
    "\n",
    "def product_parsing(text):\n",
    "    pattern = re.compile(r'(.+?)\\s+(\\d+\\.\\d{2})')\n",
    "    products = []\n",
    "    prices = []\n",
    "    \n",
    "    for line in text.split('\\n'):\n",
    "        match = pattern.search(line)\n",
    "        if match:\n",
    "            product = match.group(1).strip()\n",
    "            price = match.group(2).strip()\n",
    "            products.append(product)\n",
    "            prices.append(price)\n",
    "    \n",
    "    return products, prices\n",
    "\n",
    "def main(image_path):\n",
    "    text = text_extraction(image_path)\n",
    "    products, prices = product_parsing(text)\n",
    "    \n",
    "    for product, price in zip(products, prices):\n",
    "        print(f\"Product: {product}, Price: {price}\")\n",
    "\n",
    "if __name__ == \"__main__\":\n",
    "    image_path = r'C:\\Users\\lucif\\Downloads\\the-bill-of-the-hotel.jpg'\n",
    "    main(image_path)"
   ]
  },
  {
   "cell_type": "code",
   "execution_count": null,
   "id": "d47a36eb",
   "metadata": {},
   "outputs": [],
   "source": []
  }
 ],
 "metadata": {
  "kernelspec": {
   "display_name": "Python 3 (ipykernel)",
   "language": "python",
   "name": "python3"
  },
  "language_info": {
   "codemirror_mode": {
    "name": "ipython",
    "version": 3
   },
   "file_extension": ".py",
   "mimetype": "text/x-python",
   "name": "python",
   "nbconvert_exporter": "python",
   "pygments_lexer": "ipython3",
   "version": "3.11.5"
  }
 },
 "nbformat": 4,
 "nbformat_minor": 5
}
